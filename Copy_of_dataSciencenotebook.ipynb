{
  "nbformat": 4,
  "nbformat_minor": 0,
  "metadata": {
    "colab": {
      "provenance": [],
      "toc_visible": true,
      "authorship_tag": "ABX9TyOayceSgclb3/+SBYoJF2uV",
      "include_colab_link": true
    },
    "kernelspec": {
      "name": "python3",
      "display_name": "Python 3"
    },
    "language_info": {
      "name": "python"
    }
  },
  "cells": [
    {
      "cell_type": "markdown",
      "metadata": {
        "id": "view-in-github",
        "colab_type": "text"
      },
      "source": [
        "<a href=\"https://colab.research.google.com/github/meenu618/meenu618/blob/main/Copy_of_dataSciencenotebook.ipynb\" target=\"_parent\"><img src=\"https://colab.research.google.com/assets/colab-badge.svg\" alt=\"Open In Colab\"/></a>"
      ]
    },
    {
      "cell_type": "markdown",
      "source": [],
      "metadata": {
        "id": "DVW7rCRqQMIm"
      }
    },
    {
      "cell_type": "markdown",
      "source": [
        "## Ingest\n",
        "\n",
        "\n"
      ],
      "metadata": {
        "id": "Jkxt6QylQSFH"
      }
    },
    {
      "cell_type": "code",
      "source": [],
      "metadata": {
        "id": "cKKaRli_R8C8"
      },
      "execution_count": null,
      "outputs": []
    },
    {
      "cell_type": "markdown",
      "source": [
        "## EDA\n",
        "\n",
        "\n"
      ],
      "metadata": {
        "id": "pAZOQDDzQPF9"
      }
    },
    {
      "cell_type": "code",
      "source": [],
      "metadata": {
        "id": "4e6FY5zKR-xY"
      },
      "execution_count": null,
      "outputs": []
    },
    {
      "cell_type": "markdown",
      "source": [
        "## Modeling\n"
      ],
      "metadata": {
        "id": "_Nv8lPESQQtu"
      }
    },
    {
      "cell_type": "markdown",
      "source": [
        "### Classification Algorithm 1\n"
      ],
      "metadata": {
        "id": "NQmWMqZpSqm6"
      }
    },
    {
      "cell_type": "code",
      "execution_count": null,
      "metadata": {
        "id": "MIk08Ok7PxL5"
      },
      "outputs": [],
      "source": []
    },
    {
      "cell_type": "markdown",
      "source": [
        "### Classification Algorithm 2\n",
        "\n"
      ],
      "metadata": {
        "id": "GTAgxOYLTTW3"
      }
    },
    {
      "cell_type": "markdown",
      "source": [
        "## Conclusion\n",
        "\n",
        "\n",
        "\n"
      ],
      "metadata": {
        "id": "UOPxT5DTRXig"
      }
    },
    {
      "cell_type": "code",
      "source": [],
      "metadata": {
        "id": "lVdO-H1cSClX"
      },
      "execution_count": null,
      "outputs": []
    },
    {
      "cell_type": "code",
      "source": [],
      "metadata": {
        "id": "z5NT29BPSXuw"
      },
      "execution_count": null,
      "outputs": []
    },
    {
      "cell_type": "code",
      "source": [],
      "metadata": {
        "id": "Xd12JPLiSX0V"
      },
      "execution_count": null,
      "outputs": []
    }
  ]
}